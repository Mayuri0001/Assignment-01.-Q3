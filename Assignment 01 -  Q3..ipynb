{
 "cells": [
  {
   "cell_type": "markdown",
   "id": "88d92a49",
   "metadata": {},
   "source": [
    "# Write a Python program to count the number of even and odd numbers from a series of numbers."
   ]
  },
  {
   "cell_type": "code",
   "execution_count": 1,
   "id": "277b43a6",
   "metadata": {},
   "outputs": [
    {
     "name": "stdout",
     "output_type": "stream",
     "text": [
      "Even number = 4\n",
      "Odd number = 5\n"
     ]
    }
   ],
   "source": [
    "l = [1,2,3,4,5,6,7,8,9]\n",
    "even_count = 0\n",
    "odd_count = 0\n",
    "for i in l:\n",
    "    if i%2 == 0:\n",
    "        even_count+=1\n",
    "    elif i%2 != 0:\n",
    "        odd_count+=1\n",
    "print(\"Even number =\", even_count)\n",
    "print(\"Odd number =\", odd_count)"
   ]
  },
  {
   "cell_type": "code",
   "execution_count": null,
   "id": "6c46b8e7",
   "metadata": {},
   "outputs": [],
   "source": [
    "c = int(input())\n",
    "even_count = 0\n",
    "odd_count = 0\n",
    "for i in range(1,c+1):\n",
    "    if i%2== 0:\n",
    "        even_count+=1\n",
    "    elif i%2 != 0:\n",
    "        odd_count+=1\n",
    "print(\"Even number =\", even_count)\n",
    "print(\"Odd number =\", odd_count)"
   ]
  },
  {
   "cell_type": "code",
   "execution_count": null,
   "id": "8154916d",
   "metadata": {},
   "outputs": [],
   "source": []
  }
 ],
 "metadata": {
  "kernelspec": {
   "display_name": "Python 3 (ipykernel)",
   "language": "python",
   "name": "python3"
  },
  "language_info": {
   "codemirror_mode": {
    "name": "ipython",
    "version": 3
   },
   "file_extension": ".py",
   "mimetype": "text/x-python",
   "name": "python",
   "nbconvert_exporter": "python",
   "pygments_lexer": "ipython3",
   "version": "3.10.2"
  }
 },
 "nbformat": 4,
 "nbformat_minor": 5
}
